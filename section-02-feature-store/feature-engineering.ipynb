{
 "cells": [
  {
   "cell_type": "code",
   "execution_count": 1,
   "metadata": {},
   "outputs": [],
   "source": [
    "import pandas as pd\n",
    "from sklearn.preprocessing import LabelEncoder, MinMaxScaler\n",
    "from datetime import datetime, date, timezone"
   ]
  },
  {
   "cell_type": "markdown",
   "metadata": {},
   "source": [
    "To extract data direct from github:"
   ]
  },
  {
   "cell_type": "code",
   "execution_count": 6,
   "metadata": {},
   "outputs": [],
   "source": [
    "customers = pd.read_csv(\"https://raw.githubusercontent.com/dpalacioj/mlops-essentials/udemy-notes/section-02-feature-store/raw/customers.csv\")"
   ]
  },
  {
   "cell_type": "code",
   "execution_count": 8,
   "metadata": {},
   "outputs": [
    {
     "data": {
      "text/html": [
       "<div>\n",
       "<style scoped>\n",
       "    .dataframe tbody tr th:only-of-type {\n",
       "        vertical-align: middle;\n",
       "    }\n",
       "\n",
       "    .dataframe tbody tr th {\n",
       "        vertical-align: top;\n",
       "    }\n",
       "\n",
       "    .dataframe thead th {\n",
       "        text-align: right;\n",
       "    }\n",
       "</style>\n",
       "<table border=\"1\" class=\"dataframe\">\n",
       "  <thead>\n",
       "    <tr style=\"text-align: right;\">\n",
       "      <th></th>\n",
       "      <th>customer_id</th>\n",
       "      <th>name</th>\n",
       "      <th>sex</th>\n",
       "      <th>state</th>\n",
       "      <th>age</th>\n",
       "      <th>is_married</th>\n",
       "      <th>active_since</th>\n",
       "      <th>event_time</th>\n",
       "    </tr>\n",
       "  </thead>\n",
       "  <tbody>\n",
       "    <tr>\n",
       "      <th>0</th>\n",
       "      <td>C1</td>\n",
       "      <td>brooke williams</td>\n",
       "      <td>F</td>\n",
       "      <td>alabama</td>\n",
       "      <td>76</td>\n",
       "      <td>True</td>\n",
       "      <td>2019-03-09 14:43:26</td>\n",
       "      <td>2024-05-02T05:39:10.965Z</td>\n",
       "    </tr>\n",
       "    <tr>\n",
       "      <th>1</th>\n",
       "      <td>C2</td>\n",
       "      <td>jim reese</td>\n",
       "      <td>M</td>\n",
       "      <td>oregon</td>\n",
       "      <td>76</td>\n",
       "      <td>True</td>\n",
       "      <td>2016-07-24 05:21:59</td>\n",
       "      <td>2024-05-02T05:39:10.966Z</td>\n",
       "    </tr>\n",
       "  </tbody>\n",
       "</table>\n",
       "</div>"
      ],
      "text/plain": [
       "  customer_id             name sex    state  age  is_married  \\\n",
       "0          C1  brooke williams   F  alabama   76        True   \n",
       "1          C2        jim reese   M   oregon   76        True   \n",
       "\n",
       "          active_since                event_time  \n",
       "0  2019-03-09 14:43:26  2024-05-02T05:39:10.965Z  \n",
       "1  2016-07-24 05:21:59  2024-05-02T05:39:10.966Z  "
      ]
     },
     "execution_count": 8,
     "metadata": {},
     "output_type": "execute_result"
    }
   ],
   "source": [
    "customers.head(2)"
   ]
  },
  {
   "cell_type": "code",
   "execution_count": 9,
   "metadata": {},
   "outputs": [],
   "source": [
    "label_encoder = LabelEncoder()\n",
    "min_max_scaler = MinMaxScaler()"
   ]
  },
  {
   "cell_type": "code",
   "execution_count": 10,
   "metadata": {},
   "outputs": [],
   "source": [
    "customers.drop(columns = ['name', 'state'], inplace=True)"
   ]
  },
  {
   "cell_type": "code",
   "execution_count": 12,
   "metadata": {},
   "outputs": [
    {
     "name": "stdout",
     "output_type": "stream",
     "text": [
      "<class 'pandas.core.frame.DataFrame'>\n",
      "RangeIndex: 10000 entries, 0 to 9999\n",
      "Data columns (total 6 columns):\n",
      " #   Column        Non-Null Count  Dtype \n",
      "---  ------        --------------  ----- \n",
      " 0   customer_id   10000 non-null  object\n",
      " 1   sex           10000 non-null  object\n",
      " 2   age           10000 non-null  int64 \n",
      " 3   is_married    10000 non-null  bool  \n",
      " 4   active_since  10000 non-null  object\n",
      " 5   event_time    10000 non-null  object\n",
      "dtypes: bool(1), int64(1), object(4)\n",
      "memory usage: 400.5+ KB\n"
     ]
    }
   ],
   "source": [
    "customers.info()"
   ]
  },
  {
   "cell_type": "code",
   "execution_count": 17,
   "metadata": {},
   "outputs": [
    {
     "data": {
      "text/plain": [
       "age\n",
       "24    0.0168\n",
       "42    0.0162\n",
       "54    0.0161\n",
       "81    0.0158\n",
       "31    0.0158\n",
       "       ...  \n",
       "80    0.0118\n",
       "91    0.0116\n",
       "18    0.0112\n",
       "65    0.0111\n",
       "84    0.0105\n",
       "Name: proportion, Length: 74, dtype: float64"
      ]
     },
     "execution_count": 17,
     "metadata": {},
     "output_type": "execute_result"
    }
   ],
   "source": [
    "customers['age'].value_counts(normalize=True, sort=True, ascending =False)"
   ]
  },
  {
   "cell_type": "code",
   "execution_count": 21,
   "metadata": {},
   "outputs": [
    {
     "data": {
      "text/html": [
       "<div>\n",
       "<style scoped>\n",
       "    .dataframe tbody tr th:only-of-type {\n",
       "        vertical-align: middle;\n",
       "    }\n",
       "\n",
       "    .dataframe tbody tr th {\n",
       "        vertical-align: top;\n",
       "    }\n",
       "\n",
       "    .dataframe thead th {\n",
       "        text-align: right;\n",
       "    }\n",
       "</style>\n",
       "<table border=\"1\" class=\"dataframe\">\n",
       "  <thead>\n",
       "    <tr style=\"text-align: right;\">\n",
       "      <th></th>\n",
       "      <th>customer_id</th>\n",
       "      <th>sex</th>\n",
       "      <th>age</th>\n",
       "      <th>is_married</th>\n",
       "      <th>active_since</th>\n",
       "      <th>event_time</th>\n",
       "      <th>age_range</th>\n",
       "    </tr>\n",
       "  </thead>\n",
       "  <tbody>\n",
       "    <tr>\n",
       "      <th>0</th>\n",
       "      <td>C1</td>\n",
       "      <td>F</td>\n",
       "      <td>76</td>\n",
       "      <td>True</td>\n",
       "      <td>2019-03-09 14:43:26</td>\n",
       "      <td>2024-05-02T05:39:10.965Z</td>\n",
       "      <td>70-plus</td>\n",
       "    </tr>\n",
       "    <tr>\n",
       "      <th>1</th>\n",
       "      <td>C2</td>\n",
       "      <td>M</td>\n",
       "      <td>76</td>\n",
       "      <td>True</td>\n",
       "      <td>2016-07-24 05:21:59</td>\n",
       "      <td>2024-05-02T05:39:10.966Z</td>\n",
       "      <td>70-plus</td>\n",
       "    </tr>\n",
       "    <tr>\n",
       "      <th>2</th>\n",
       "      <td>C3</td>\n",
       "      <td>M</td>\n",
       "      <td>40</td>\n",
       "      <td>True</td>\n",
       "      <td>2017-11-21 01:14:51</td>\n",
       "      <td>2024-05-02T05:39:10.967Z</td>\n",
       "      <td>30-39</td>\n",
       "    </tr>\n",
       "  </tbody>\n",
       "</table>\n",
       "</div>"
      ],
      "text/plain": [
       "  customer_id sex  age  is_married         active_since  \\\n",
       "0          C1   F   76        True  2019-03-09 14:43:26   \n",
       "1          C2   M   76        True  2016-07-24 05:21:59   \n",
       "2          C3   M   40        True  2017-11-21 01:14:51   \n",
       "\n",
       "                 event_time age_range  \n",
       "0  2024-05-02T05:39:10.965Z   70-plus  \n",
       "1  2024-05-02T05:39:10.966Z   70-plus  \n",
       "2  2024-05-02T05:39:10.967Z     30-39  "
      ]
     },
     "execution_count": 21,
     "metadata": {},
     "output_type": "execute_result"
    }
   ],
   "source": [
    "bins = [18, 30, 40, 50, 60, 70, 90]\n",
    "labels = ['18-29', '30-39', '40-49', '50-59', '60-69', '70-plus']\n",
    "customers['age_range'] = pd.cut(customers['age'], bins, labels=labels, include_lowest=True)\n",
    "customers.head(3)"
   ]
  },
  {
   "cell_type": "markdown",
   "metadata": {},
   "source": [
    "The `cut` function is useful for going from a continuous variable to a categorical variable."
   ]
  },
  {
   "cell_type": "code",
   "execution_count": 22,
   "metadata": {},
   "outputs": [
    {
     "data": {
      "text/html": [
       "<div>\n",
       "<style scoped>\n",
       "    .dataframe tbody tr th:only-of-type {\n",
       "        vertical-align: middle;\n",
       "    }\n",
       "\n",
       "    .dataframe tbody tr th {\n",
       "        vertical-align: top;\n",
       "    }\n",
       "\n",
       "    .dataframe thead th {\n",
       "        text-align: right;\n",
       "    }\n",
       "</style>\n",
       "<table border=\"1\" class=\"dataframe\">\n",
       "  <thead>\n",
       "    <tr style=\"text-align: right;\">\n",
       "      <th></th>\n",
       "      <th>age_18-29</th>\n",
       "      <th>age_30-39</th>\n",
       "      <th>age_40-49</th>\n",
       "      <th>age_50-59</th>\n",
       "      <th>age_60-69</th>\n",
       "      <th>age_70-plus</th>\n",
       "    </tr>\n",
       "  </thead>\n",
       "  <tbody>\n",
       "    <tr>\n",
       "      <th>0</th>\n",
       "      <td>0</td>\n",
       "      <td>0</td>\n",
       "      <td>0</td>\n",
       "      <td>0</td>\n",
       "      <td>0</td>\n",
       "      <td>1</td>\n",
       "    </tr>\n",
       "    <tr>\n",
       "      <th>1</th>\n",
       "      <td>0</td>\n",
       "      <td>0</td>\n",
       "      <td>0</td>\n",
       "      <td>0</td>\n",
       "      <td>0</td>\n",
       "      <td>1</td>\n",
       "    </tr>\n",
       "    <tr>\n",
       "      <th>2</th>\n",
       "      <td>0</td>\n",
       "      <td>1</td>\n",
       "      <td>0</td>\n",
       "      <td>0</td>\n",
       "      <td>0</td>\n",
       "      <td>0</td>\n",
       "    </tr>\n",
       "  </tbody>\n",
       "</table>\n",
       "</div>"
      ],
      "text/plain": [
       "   age_18-29  age_30-39  age_40-49  age_50-59  age_60-69  age_70-plus\n",
       "0          0          0          0          0          0            1\n",
       "1          0          0          0          0          0            1\n",
       "2          0          1          0          0          0            0"
      ]
     },
     "execution_count": 22,
     "metadata": {},
     "output_type": "execute_result"
    }
   ],
   "source": [
    "df_age_group = pd.get_dummies(customers['age_range'], prefix=\"age\", dtype='int')\n",
    "df_age_group.head(3)"
   ]
  },
  {
   "cell_type": "markdown",
   "metadata": {},
   "source": [
    "Once the categorical age features are obtained, they can be `concat` to the original dataframe"
   ]
  },
  {
   "cell_type": "code",
   "execution_count": 23,
   "metadata": {},
   "outputs": [
    {
     "data": {
      "text/html": [
       "<div>\n",
       "<style scoped>\n",
       "    .dataframe tbody tr th:only-of-type {\n",
       "        vertical-align: middle;\n",
       "    }\n",
       "\n",
       "    .dataframe tbody tr th {\n",
       "        vertical-align: top;\n",
       "    }\n",
       "\n",
       "    .dataframe thead th {\n",
       "        text-align: right;\n",
       "    }\n",
       "</style>\n",
       "<table border=\"1\" class=\"dataframe\">\n",
       "  <thead>\n",
       "    <tr style=\"text-align: right;\">\n",
       "      <th></th>\n",
       "      <th>customer_id</th>\n",
       "      <th>sex</th>\n",
       "      <th>age</th>\n",
       "      <th>is_married</th>\n",
       "      <th>active_since</th>\n",
       "      <th>event_time</th>\n",
       "      <th>age_range</th>\n",
       "      <th>age_18-29</th>\n",
       "      <th>age_30-39</th>\n",
       "      <th>age_40-49</th>\n",
       "      <th>age_50-59</th>\n",
       "      <th>age_60-69</th>\n",
       "      <th>age_70-plus</th>\n",
       "    </tr>\n",
       "  </thead>\n",
       "  <tbody>\n",
       "    <tr>\n",
       "      <th>0</th>\n",
       "      <td>C1</td>\n",
       "      <td>F</td>\n",
       "      <td>76</td>\n",
       "      <td>True</td>\n",
       "      <td>2019-03-09 14:43:26</td>\n",
       "      <td>2024-05-02T05:39:10.965Z</td>\n",
       "      <td>70-plus</td>\n",
       "      <td>0</td>\n",
       "      <td>0</td>\n",
       "      <td>0</td>\n",
       "      <td>0</td>\n",
       "      <td>0</td>\n",
       "      <td>1</td>\n",
       "    </tr>\n",
       "    <tr>\n",
       "      <th>1</th>\n",
       "      <td>C2</td>\n",
       "      <td>M</td>\n",
       "      <td>76</td>\n",
       "      <td>True</td>\n",
       "      <td>2016-07-24 05:21:59</td>\n",
       "      <td>2024-05-02T05:39:10.966Z</td>\n",
       "      <td>70-plus</td>\n",
       "      <td>0</td>\n",
       "      <td>0</td>\n",
       "      <td>0</td>\n",
       "      <td>0</td>\n",
       "      <td>0</td>\n",
       "      <td>1</td>\n",
       "    </tr>\n",
       "    <tr>\n",
       "      <th>2</th>\n",
       "      <td>C3</td>\n",
       "      <td>M</td>\n",
       "      <td>40</td>\n",
       "      <td>True</td>\n",
       "      <td>2017-11-21 01:14:51</td>\n",
       "      <td>2024-05-02T05:39:10.967Z</td>\n",
       "      <td>30-39</td>\n",
       "      <td>0</td>\n",
       "      <td>1</td>\n",
       "      <td>0</td>\n",
       "      <td>0</td>\n",
       "      <td>0</td>\n",
       "      <td>0</td>\n",
       "    </tr>\n",
       "  </tbody>\n",
       "</table>\n",
       "</div>"
      ],
      "text/plain": [
       "  customer_id sex  age  is_married         active_since  \\\n",
       "0          C1   F   76        True  2019-03-09 14:43:26   \n",
       "1          C2   M   76        True  2016-07-24 05:21:59   \n",
       "2          C3   M   40        True  2017-11-21 01:14:51   \n",
       "\n",
       "                 event_time age_range  age_18-29  age_30-39  age_40-49  \\\n",
       "0  2024-05-02T05:39:10.965Z   70-plus          0          0          0   \n",
       "1  2024-05-02T05:39:10.966Z   70-plus          0          0          0   \n",
       "2  2024-05-02T05:39:10.967Z     30-39          0          1          0   \n",
       "\n",
       "   age_50-59  age_60-69  age_70-plus  \n",
       "0          0          0            1  \n",
       "1          0          0            1  \n",
       "2          0          0            0  "
      ]
     },
     "execution_count": 23,
     "metadata": {},
     "output_type": "execute_result"
    }
   ],
   "source": [
    "customers = pd.concat([customers, df_age_group], axis=1)\n",
    "customers.head(3)"
   ]
  },
  {
   "cell_type": "code",
   "execution_count": 26,
   "metadata": {},
   "outputs": [],
   "source": [
    "customers.drop(columns = ['age', 'age_range'], inplace=True) # Useless columns"
   ]
  },
  {
   "cell_type": "markdown",
   "metadata": {},
   "source": [
    "Now, it is necesary to convert the `sex` feature from str to int. THe same applies to `is_married`"
   ]
  },
  {
   "cell_type": "code",
   "execution_count": 27,
   "metadata": {},
   "outputs": [
    {
     "data": {
      "text/html": [
       "<div>\n",
       "<style scoped>\n",
       "    .dataframe tbody tr th:only-of-type {\n",
       "        vertical-align: middle;\n",
       "    }\n",
       "\n",
       "    .dataframe tbody tr th {\n",
       "        vertical-align: top;\n",
       "    }\n",
       "\n",
       "    .dataframe thead th {\n",
       "        text-align: right;\n",
       "    }\n",
       "</style>\n",
       "<table border=\"1\" class=\"dataframe\">\n",
       "  <thead>\n",
       "    <tr style=\"text-align: right;\">\n",
       "      <th></th>\n",
       "      <th>customer_id</th>\n",
       "      <th>sex</th>\n",
       "      <th>is_married</th>\n",
       "      <th>active_since</th>\n",
       "      <th>event_time</th>\n",
       "      <th>age_18-29</th>\n",
       "      <th>age_30-39</th>\n",
       "      <th>age_40-49</th>\n",
       "      <th>age_50-59</th>\n",
       "      <th>age_60-69</th>\n",
       "      <th>age_70-plus</th>\n",
       "    </tr>\n",
       "  </thead>\n",
       "  <tbody>\n",
       "    <tr>\n",
       "      <th>0</th>\n",
       "      <td>C1</td>\n",
       "      <td>0</td>\n",
       "      <td>1</td>\n",
       "      <td>2019-03-09 14:43:26</td>\n",
       "      <td>2024-05-02T05:39:10.965Z</td>\n",
       "      <td>0</td>\n",
       "      <td>0</td>\n",
       "      <td>0</td>\n",
       "      <td>0</td>\n",
       "      <td>0</td>\n",
       "      <td>1</td>\n",
       "    </tr>\n",
       "    <tr>\n",
       "      <th>1</th>\n",
       "      <td>C2</td>\n",
       "      <td>1</td>\n",
       "      <td>1</td>\n",
       "      <td>2016-07-24 05:21:59</td>\n",
       "      <td>2024-05-02T05:39:10.966Z</td>\n",
       "      <td>0</td>\n",
       "      <td>0</td>\n",
       "      <td>0</td>\n",
       "      <td>0</td>\n",
       "      <td>0</td>\n",
       "      <td>1</td>\n",
       "    </tr>\n",
       "    <tr>\n",
       "      <th>2</th>\n",
       "      <td>C3</td>\n",
       "      <td>1</td>\n",
       "      <td>1</td>\n",
       "      <td>2017-11-21 01:14:51</td>\n",
       "      <td>2024-05-02T05:39:10.967Z</td>\n",
       "      <td>0</td>\n",
       "      <td>1</td>\n",
       "      <td>0</td>\n",
       "      <td>0</td>\n",
       "      <td>0</td>\n",
       "      <td>0</td>\n",
       "    </tr>\n",
       "    <tr>\n",
       "      <th>3</th>\n",
       "      <td>C4</td>\n",
       "      <td>1</td>\n",
       "      <td>0</td>\n",
       "      <td>2016-11-16 04:44:55</td>\n",
       "      <td>2024-05-02T05:39:10.967Z</td>\n",
       "      <td>0</td>\n",
       "      <td>0</td>\n",
       "      <td>0</td>\n",
       "      <td>0</td>\n",
       "      <td>1</td>\n",
       "      <td>0</td>\n",
       "    </tr>\n",
       "    <tr>\n",
       "      <th>4</th>\n",
       "      <td>C5</td>\n",
       "      <td>1</td>\n",
       "      <td>0</td>\n",
       "      <td>2017-03-27 21:09:31</td>\n",
       "      <td>2024-05-02T05:39:10.968Z</td>\n",
       "      <td>0</td>\n",
       "      <td>0</td>\n",
       "      <td>0</td>\n",
       "      <td>0</td>\n",
       "      <td>1</td>\n",
       "      <td>0</td>\n",
       "    </tr>\n",
       "  </tbody>\n",
       "</table>\n",
       "</div>"
      ],
      "text/plain": [
       "  customer_id  sex  is_married         active_since                event_time  \\\n",
       "0          C1    0           1  2019-03-09 14:43:26  2024-05-02T05:39:10.965Z   \n",
       "1          C2    1           1  2016-07-24 05:21:59  2024-05-02T05:39:10.966Z   \n",
       "2          C3    1           1  2017-11-21 01:14:51  2024-05-02T05:39:10.967Z   \n",
       "3          C4    1           0  2016-11-16 04:44:55  2024-05-02T05:39:10.967Z   \n",
       "4          C5    1           0  2017-03-27 21:09:31  2024-05-02T05:39:10.968Z   \n",
       "\n",
       "   age_18-29  age_30-39  age_40-49  age_50-59  age_60-69  age_70-plus  \n",
       "0          0          0          0          0          0            1  \n",
       "1          0          0          0          0          0            1  \n",
       "2          0          1          0          0          0            0  \n",
       "3          0          0          0          0          1            0  \n",
       "4          0          0          0          0          1            0  "
      ]
     },
     "execution_count": 27,
     "metadata": {},
     "output_type": "execute_result"
    }
   ],
   "source": [
    "customers['sex'] = customers['sex'].map({\"F\":0, \"M\":1})\n",
    "customers['is_married'] = customers['is_married'].astype('int') # Remember that 1=True and 0=False\n",
    "customers.head()"
   ]
  },
  {
   "cell_type": "code",
   "execution_count": 28,
   "metadata": {},
   "outputs": [],
   "source": [
    "customers['active_since'] = pd.to_datetime(customers['active_since'], format =\"%Y-%m-%d %H:%M:%S\")"
   ]
  },
  {
   "cell_type": "code",
   "execution_count": 29,
   "metadata": {},
   "outputs": [
    {
     "name": "stdout",
     "output_type": "stream",
     "text": [
      "<class 'pandas.core.frame.DataFrame'>\n",
      "RangeIndex: 10000 entries, 0 to 9999\n",
      "Data columns (total 11 columns):\n",
      " #   Column        Non-Null Count  Dtype         \n",
      "---  ------        --------------  -----         \n",
      " 0   customer_id   10000 non-null  object        \n",
      " 1   sex           10000 non-null  int64         \n",
      " 2   is_married    10000 non-null  int64         \n",
      " 3   active_since  10000 non-null  datetime64[ns]\n",
      " 4   event_time    10000 non-null  object        \n",
      " 5   age_18-29     10000 non-null  int64         \n",
      " 6   age_30-39     10000 non-null  int64         \n",
      " 7   age_40-49     10000 non-null  int64         \n",
      " 8   age_50-59     10000 non-null  int64         \n",
      " 9   age_60-69     10000 non-null  int64         \n",
      " 10  age_70-plus   10000 non-null  int64         \n",
      "dtypes: datetime64[ns](1), int64(8), object(2)\n",
      "memory usage: 859.5+ KB\n"
     ]
    }
   ],
   "source": [
    "customers.info()"
   ]
  },
  {
   "cell_type": "code",
   "execution_count": null,
   "metadata": {},
   "outputs": [],
   "source": []
  }
 ],
 "metadata": {
  "kernelspec": {
   "display_name": "mlops",
   "language": "python",
   "name": "python3"
  },
  "language_info": {
   "codemirror_mode": {
    "name": "ipython",
    "version": 3
   },
   "file_extension": ".py",
   "mimetype": "text/x-python",
   "name": "python",
   "nbconvert_exporter": "python",
   "pygments_lexer": "ipython3",
   "version": "3.10.14"
  }
 },
 "nbformat": 4,
 "nbformat_minor": 2
}
