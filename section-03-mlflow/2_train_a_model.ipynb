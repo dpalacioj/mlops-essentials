{
  "cells": [
    {
      "cell_type": "markdown",
      "source": [
        "Primero se garantiza que se tengan las condiciones del ambiente de ejecución."
      ],
      "metadata": {
        "id": "NyBBaRZXflRv"
      }
    },
    {
      "cell_type": "code",
      "source": [
        "!pip install mlflow==2.7.1\n",
        "!pip install transformers[torch]==4.41.0\n",
        "!pip install tqdm==4.65.0\n",
        "!pip install datasets==2.14.6\n",
        "!pip install scikit-learn==1.3.0\n",
        "!pip install pyngrok==7.2.0\n",
        "!pip install python-dotenv"
      ],
      "metadata": {
        "id": "aByclVcifr38"
      },
      "execution_count": null,
      "outputs": []
    },
    {
      "cell_type": "code",
      "execution_count": 39,
      "metadata": {
        "id": "JLHHb5pDe-Kr"
      },
      "outputs": [],
      "source": [
        "import os\n",
        "from dotenv import load_dotenv\n",
        "from pyngrok import ngrok\n",
        "import mlflow\n",
        "import torch\n",
        "from datasets import load_dataset\n",
        "from torch.utils.data import DataLoader\n",
        "from transformers import DistilBertForSequenceClassification, DistilBertTokenizerFast, AdamW\n",
        "from tqdm import tqdm\n",
        "from sklearn.metrics import accuracy_score, precision_recall_fscore_support"
      ]
    },
    {
      "cell_type": "markdown",
      "source": [
        "# Configuración de los parámetros"
      ],
      "metadata": {
        "id": "A8vJ0ocB1j13"
      }
    },
    {
      "cell_type": "markdown",
      "source": [
        "Una forma sencilla de iterar los parámetros del modelo es definiéndolos como un diccionario."
      ],
      "metadata": {
        "id": "9faXT06LltA6"
      }
    },
    {
      "cell_type": "code",
      "execution_count": 40,
      "metadata": {
        "id": "QVlEgxVGe-Kt"
      },
      "outputs": [],
      "source": [
        "# Define parameters\n",
        "\n",
        "params = {\n",
        "    \"model_name\": \"distilbert-base-uncased\",\n",
        "    \"learning_rate\": 5e-5,\n",
        "    \"batch_size\":16,\n",
        "    \"num_epochs\": 1,\n",
        "    \"dataset_name\": \"ag_news\",\n",
        "    \"task_name\": \"sequence_classification\",\n",
        "    \"log_steps\": 100,\n",
        "    \"max_seq_length\": 128,\n",
        "    \"output_dir\": \"../models/distilbert_ag-news\",\n",
        "}"
      ]
    },
    {
      "cell_type": "markdown",
      "source": [
        "# Configuración de MLflow"
      ],
      "metadata": {
        "id": "yFlfkiNV1f4u"
      }
    },
    {
      "cell_type": "markdown",
      "metadata": {
        "id": "W83hcVkze-Ku"
      },
      "source": [
        "Si vas a ejecutar el notebook usando un IDE local, debes ejecutar el siguiente comando en la terminal:\n",
        "\n",
        "`\n",
        "mlflow server --backend-store-uri sqlite:///mlflow.db --default-artifact-root ./mlruns --host 127.0.0.1 --port 5000\n",
        "`"
      ]
    },
    {
      "cell_type": "markdown",
      "source": [
        "Debido a que Google Colab no permite acceso directo a `localhost`, **ngrok** crea un túnel seguro entre el entorno de Colab y una URL pública, permitiendo exponer servidores locales como el de MLflow."
      ],
      "metadata": {
        "id": "Cm_MOxurv8Gt"
      }
    },
    {
      "cell_type": "code",
      "source": [
        "dotenv_path = '/content/ngrok.env'\n",
        "load_dotenv(dotenv_path)\n",
        "authtoken = os.getenv(\"NGROK_AUTH_TOKEN\")\n",
        "ngrok.set_auth_token(authtoken)"
      ],
      "metadata": {
        "id": "9jwz9IZ3pyd1"
      },
      "execution_count": 41,
      "outputs": []
    },
    {
      "cell_type": "code",
      "source": [
        "# Iniciar el servidor de MLflow\n",
        "get_ipython().system_raw(\"mlflow server --backend-store-uri sqlite:///mlflow.db --default-artifact-root ./mlruns --host 0.0.0.0 --port 5000 &\")"
      ],
      "metadata": {
        "id": "BmWhwiammhlK"
      },
      "execution_count": 42,
      "outputs": []
    },
    {
      "cell_type": "code",
      "source": [
        "# Exponer el puerto 5000 a través de ngrok\n",
        "public_url = ngrok.connect(\"http://localhost:5000\")\n",
        "print(f\"MLflow UI disponible en: {public_url}\")"
      ],
      "metadata": {
        "id": "83f8uPDQmkFC",
        "outputId": "793af757-3faf-48e7-acb9-ba4dbc570b11",
        "colab": {
          "base_uri": "https://localhost:8080/"
        }
      },
      "execution_count": 43,
      "outputs": [
        {
          "output_type": "stream",
          "name": "stdout",
          "text": [
            "MLflow UI disponible en: NgrokTunnel: \"https://b663-35-237-133-167.ngrok-free.app\" -> \"http://localhost:5000\"\n"
          ]
        }
      ]
    },
    {
      "cell_type": "markdown",
      "source": [
        "El primer paso es configurar la URI de seguimiento para MLflow"
      ],
      "metadata": {
        "id": "GS-3_UU2zWd6"
      }
    },
    {
      "cell_type": "code",
      "execution_count": 44,
      "metadata": {
        "colab": {
          "base_uri": "https://localhost:8080/"
        },
        "id": "Ef45bKAye-Kv",
        "outputId": "f5c6a93a-42e4-4b26-cdbc-5b367f86ac8d"
      },
      "outputs": [
        {
          "output_type": "stream",
          "name": "stdout",
          "text": [
            "Usando el experimento existente: 'sequence_classification\n"
          ]
        }
      ],
      "source": [
        "# mlflow.set_tracking_uri(\"http://localhost:5000\") # Si usas el entorno local\n",
        "\n",
        "mlflow.set_tracking_uri(public_url.public_url)\n",
        "\n",
        "client = mlflow.MlflowClient()\n",
        "\n",
        "experiment_name = params[\"task_name\"]\n",
        "experiment = client.get_experiment_by_name(experiment_name)\n",
        "\n",
        "if experiment is None:\n",
        "\n",
        "    mlflow.set_experiment(params[\"task_name\"])\n",
        "    print(f\"Experimento '{experiment_name}' creado\")\n",
        "\n",
        "else:\n",
        "    mlflow.set_experiment(experiment_name)\n",
        "    print(f\"Usando el experimento existente: '{experiment_name}\")"
      ]
    },
    {
      "cell_type": "markdown",
      "source": [
        "# Carga y preprocesamiento del dataset"
      ],
      "metadata": {
        "id": "ZCykHMQv1qLe"
      }
    },
    {
      "cell_type": "code",
      "execution_count": 45,
      "metadata": {
        "colab": {
          "base_uri": "https://localhost:8080/",
          "height": 201,
          "referenced_widgets": [
            "5073084f350746f0b84a181ed7de126c",
            "7b3366e17e7f4e5aa71bc4179a84cae7",
            "09c80e37ad8a4fddb6bec0663ba83875",
            "dd9b426ed8114a2684ace7ffed468d9c",
            "b2f46ce6f1114dc48094212988d9120a",
            "4cd22ad71d95438ba3aa456a0a26465e",
            "0f5aba16d0e34b05ae5e27321f9c514e",
            "cb0a437155194c46a138f74936e669ef",
            "a02fc17548bd46b0975adc8fab555e2e",
            "59a4265ac97749e0a054c061c086d98a",
            "3bd8628638244869a3a8582f1b6e6fd5",
            "ce0aa97023ed4cda8428005bed24a0e3",
            "9c72756f6d6242eb88a41ce488d2a74d",
            "0cccd122dc7c439aacb5cf1671effe5c",
            "d023d11aa43449b0a57df75fc793b192",
            "f170e325057048b79f06846137ef10b6",
            "c2085981afae4787887f354ed78b3b32",
            "94b2f1b77fe24e64b82fa76a08d571ac",
            "0d80aec4284e413095378bf7b6ab5f4d",
            "d7eec846621a464a94647729afbc8334",
            "73246b60f8ec46c99f507720c0878c7b",
            "5b1954b4e6204859ba24eecd00edb95e",
            "b99a5da65c4646b1bbec7c7e2b57c479",
            "1b140c7cd04a4fbf8c45d4dc0dbff7ee",
            "e9cabba6b1174e0fa973cac58e813c86",
            "ad5ce134c20e4910842222524aa1db4b",
            "b1804eb931d34570beaffad90729b8fe",
            "6a7a12de8f954d188c77e4f3939497a8",
            "c266a9af046645d7bf18484a0d319e82",
            "681cf65c29074fbc9fcef492cecbcdbe",
            "958f710dc2c5434cb9c4ed771d00106e",
            "3fcf3617db6a40aba5610c5eb5d1f9ba",
            "5734a878bd0b4d4ea0508b1c0ae542bd",
            "ebd545399ff242a59f890d555a22ea8d",
            "ffbbfcb9bc7941c1a196521a6c4f08af",
            "0fea0928b4fa45de9804b6bbfd1fd490",
            "b9a4a5a6749e48ddb5d0f31a356a444d",
            "6d60fd555239484ebbc6b2f73364aed8",
            "223c48c32c5548f5b0d277dfe8aab4f6",
            "9da478c7467d49ac8f603c6d248afd1d",
            "f47d75e14a694532bfdd500c8f978ab5",
            "a171ed4180c94f3bb3803b348094cb9a",
            "1ba07f7faf734879b59260a83a3b7af3",
            "aa3316aa210f491bb10a39e72bae8951"
          ]
        },
        "id": "njU1YK8Ie-Kw",
        "outputId": "40b4db72-fc4c-43ec-eba8-ab5159e82589"
      },
      "outputs": [
        {
          "output_type": "display_data",
          "data": {
            "text/plain": [
              "Map:   0%|          | 0/500 [00:00<?, ? examples/s]"
            ],
            "application/vnd.jupyter.widget-view+json": {
              "version_major": 2,
              "version_minor": 0,
              "model_id": "5073084f350746f0b84a181ed7de126c"
            }
          },
          "metadata": {}
        },
        {
          "output_type": "display_data",
          "data": {
            "text/plain": [
              "Map:   0%|          | 0/100 [00:00<?, ? examples/s]"
            ],
            "application/vnd.jupyter.widget-view+json": {
              "version_major": 2,
              "version_minor": 0,
              "model_id": "ce0aa97023ed4cda8428005bed24a0e3"
            }
          },
          "metadata": {}
        },
        {
          "output_type": "display_data",
          "data": {
            "text/plain": [
              "Creating parquet from Arrow format:   0%|          | 0/1 [00:00<?, ?ba/s]"
            ],
            "application/vnd.jupyter.widget-view+json": {
              "version_major": 2,
              "version_minor": 0,
              "model_id": "b99a5da65c4646b1bbec7c7e2b57c479"
            }
          },
          "metadata": {}
        },
        {
          "output_type": "display_data",
          "data": {
            "text/plain": [
              "Creating parquet from Arrow format:   0%|          | 0/1 [00:00<?, ?ba/s]"
            ],
            "application/vnd.jupyter.widget-view+json": {
              "version_major": 2,
              "version_minor": 0,
              "model_id": "ebd545399ff242a59f890d555a22ea8d"
            }
          },
          "metadata": {}
        }
      ],
      "source": [
        "# Se crea una ejecución que incluya el nombre del modelo y el dataset.\n",
        "# Además se registrarán todos los parámetros del experimento\n",
        "run = mlflow.start_run(run_name=f\"{params['model_name']}-{params['dataset_name']}\")\n",
        "mlflow.log_params(params)\n",
        "\n",
        "# Cargue del dataset\n",
        "dataset = load_dataset(params['dataset_name'])\n",
        "\n",
        "# Inicializar el tokenizador preentrenado.\n",
        "# El tokenizador convierte el texto en IDs que el modelo pueda interpretar.\n",
        "tokenizer = DistilBertTokenizerFast.from_pretrained(params['model_name'])\n",
        "\n",
        "# Se define una función de tokenización para aplicar a cada lote de datos\n",
        "# El padding asegura que todas las secuencias tengan la misma longitud\n",
        "\n",
        "def tokenize(batch):\n",
        "    return tokenizer(batch['text'], padding='max_length', truncation=True, max_length=params['max_seq_length'])\n",
        "\n",
        "# Se aplica la tokenización por lotes: Se utilizaron muestras reducidas para agilizar el ejemplo y hacerlo más rápido.\n",
        "train_dataset = dataset['train'].shuffle().select(range(500)).map(tokenize, batched=True)\n",
        "test_dataset = dataset['test'].shuffle().select(range(100)).map(tokenize, batched=True)\n",
        "\n",
        "# Crea la carpeta \"data\" sino existe\n",
        "output_dir = \"../data\"\n",
        "os.makedirs(output_dir, exist_ok=True)\n",
        "\n",
        "# Guarda los dataset en la carpeta data\n",
        "train_dataset.to_parquet(f\"{output_dir}/train.parquet\")\n",
        "test_dataset.to_parquet(f'{output_dir}/test.parquet')\n",
        "\n",
        "# Registrar los dataset como artefactos de MLflow\n",
        "mlflow.log_artifact(f\"{output_dir}/train.parquet\", artifact_path='datasets')\n",
        "mlflow.log_artifact(f\"{output_dir}/test.parquet\", artifact_path='datasets')\n",
        "\n",
        "# Configurar el modelo para PyTorch y crear los DataLoaders\n",
        "train_dataset.set_format('torch', columns=['input_ids', 'attention_mask', 'label'])\n",
        "test_dataset.set_format('torch', columns=['input_ids', 'attention_mask', 'label'])\n",
        "\n",
        "train_loader = DataLoader(train_dataset, batch_size=params['batch_size'], shuffle=True)\n",
        "test_loader = DataLoader(test_dataset, batch_size=params['batch_size'], shuffle=True)\n",
        "\n",
        "# Obtener los nombres de las etiquetas del dataset para futuros pasos\n",
        "labels = dataset['train'].features['label'].names"
      ]
    },
    {
      "cell_type": "code",
      "source": [
        "mlflow.end_run()"
      ],
      "metadata": {
        "id": "ricF8rgNQtu_"
      },
      "execution_count": 46,
      "outputs": []
    },
    {
      "cell_type": "markdown",
      "metadata": {
        "id": "c4dyY4kve-Kw"
      },
      "source": [
        "Tener presente que los `input_ids` y `attention_mask` son columnas de los modelos de Hugging Face.\n"
      ]
    },
    {
      "cell_type": "code",
      "execution_count": 47,
      "metadata": {
        "colab": {
          "base_uri": "https://localhost:8080/"
        },
        "id": "l3jfUdQRe-Kx",
        "outputId": "017005e4-0e43-4ad5-bac1-7ccb94c39956"
      },
      "outputs": [
        {
          "output_type": "stream",
          "name": "stdout",
          "text": [
            "{'input_ids': [101, 2023, 2003, 1037, 7099, 3793, 1012, 102, 0, 0], 'attention_mask': [1, 1, 1, 1, 1, 1, 1, 1, 0, 0]}\n"
          ]
        }
      ],
      "source": [
        "from transformers import DistilBertTokenizerFast\n",
        "\n",
        "tokenizer = DistilBertTokenizerFast.from_pretrained(\"distilbert-base-uncased\")\n",
        "tokens = tokenizer(\"This is a sample text.\", padding=\"max_length\", truncation=True, max_length=10)\n",
        "\n",
        "print(tokens)"
      ]
    },
    {
      "cell_type": "code",
      "execution_count": null,
      "metadata": {
        "id": "e0pA8nbHe-Kx",
        "outputId": "6d8a9912-10d1-4857-faa7-2d13cd606b65"
      },
      "outputs": [
        {
          "name": "stdout",
          "output_type": "stream",
          "text": [
            "DatasetDict({\n",
            "    train: Dataset({\n",
            "        features: ['text', 'label'],\n",
            "        num_rows: 120000\n",
            "    })\n",
            "    test: Dataset({\n",
            "        features: ['text', 'label'],\n",
            "        num_rows: 7600\n",
            "    })\n",
            "})\n",
            "\n",
            "\n",
            "['text', 'label']\n",
            "\n",
            "\n",
            "{'text': Value(dtype='string', id=None), 'label': ClassLabel(names=['World', 'Sports', 'Business', 'Sci/Tech'], id=None)}\n"
          ]
        }
      ],
      "source": [
        "print(dataset)\n",
        "\n",
        "print('\\n')\n",
        "print(dataset['train'].column_names)\n",
        "print('\\n')\n",
        "\n",
        "print(dataset['train'].features)"
      ]
    },
    {
      "cell_type": "markdown",
      "source": [
        "Por otra parte, el método `set_format` conivierte las columnas seleccionadas en tensores de PyTorch. <br/>\n",
        "\n",
        "Crear `DataLoaders` para dividir los datos en batches durante el entrenamiento y la evaluación permite que el modelo procese cada grupo por separado\n",
        "\n"
      ],
      "metadata": {
        "id": "RcFiTRbd8IfP"
      }
    },
    {
      "cell_type": "markdown",
      "source": [
        "# Inicialización del modelo"
      ],
      "metadata": {
        "id": "-vkRCUrk8-g8"
      }
    },
    {
      "cell_type": "markdown",
      "source": [
        "Ahora es necesario configurar el modelo para realizar una tarea de clasificación, ajustando el modelo a las etiquetas específicas del dataset.\n",
        "\n",
        "[main clases of pretrained models](https://huggingface.co/docs/transformers/v4.42.0/en/main_classes/model)"
      ],
      "metadata": {
        "id": "yaFS434h9Tyj"
      }
    },
    {
      "cell_type": "code",
      "execution_count": 48,
      "metadata": {
        "colab": {
          "base_uri": "https://localhost:8080/"
        },
        "id": "ZLHcIMDxe-Ky",
        "outputId": "6c72ea77-8688-4fea-ffbf-6b2e16e1ac17"
      },
      "outputs": [
        {
          "output_type": "stream",
          "name": "stderr",
          "text": [
            "Some weights of DistilBertForSequenceClassification were not initialized from the model checkpoint at distilbert-base-uncased and are newly initialized: ['classifier.bias', 'classifier.weight', 'pre_classifier.bias', 'pre_classifier.weight']\n",
            "You should probably TRAIN this model on a down-stream task to be able to use it for predictions and inference.\n"
          ]
        },
        {
          "output_type": "execute_result",
          "data": {
            "text/plain": [
              "DistilBertForSequenceClassification(\n",
              "  (distilbert): DistilBertModel(\n",
              "    (embeddings): Embeddings(\n",
              "      (word_embeddings): Embedding(30522, 768, padding_idx=0)\n",
              "      (position_embeddings): Embedding(512, 768)\n",
              "      (LayerNorm): LayerNorm((768,), eps=1e-12, elementwise_affine=True)\n",
              "      (dropout): Dropout(p=0.1, inplace=False)\n",
              "    )\n",
              "    (transformer): Transformer(\n",
              "      (layer): ModuleList(\n",
              "        (0-5): 6 x TransformerBlock(\n",
              "          (attention): MultiHeadSelfAttention(\n",
              "            (dropout): Dropout(p=0.1, inplace=False)\n",
              "            (q_lin): Linear(in_features=768, out_features=768, bias=True)\n",
              "            (k_lin): Linear(in_features=768, out_features=768, bias=True)\n",
              "            (v_lin): Linear(in_features=768, out_features=768, bias=True)\n",
              "            (out_lin): Linear(in_features=768, out_features=768, bias=True)\n",
              "          )\n",
              "          (sa_layer_norm): LayerNorm((768,), eps=1e-12, elementwise_affine=True)\n",
              "          (ffn): FFN(\n",
              "            (dropout): Dropout(p=0.1, inplace=False)\n",
              "            (lin1): Linear(in_features=768, out_features=3072, bias=True)\n",
              "            (lin2): Linear(in_features=3072, out_features=768, bias=True)\n",
              "            (activation): GELUActivation()\n",
              "          )\n",
              "          (output_layer_norm): LayerNorm((768,), eps=1e-12, elementwise_affine=True)\n",
              "        )\n",
              "      )\n",
              "    )\n",
              "  )\n",
              "  (pre_classifier): Linear(in_features=768, out_features=768, bias=True)\n",
              "  (classifier): Linear(in_features=768, out_features=4, bias=True)\n",
              "  (dropout): Dropout(p=0.2, inplace=False)\n",
              ")"
            ]
          },
          "metadata": {},
          "execution_count": 48
        }
      ],
      "source": [
        "# Cargar el modelo para clasificación de secuencias\n",
        "model = DistilBertForSequenceClassification.from_pretrained(params['model_name'], num_labels=len(labels))\n",
        "\n",
        "# Mapear índices de las etiquetas con los nombres específicos de cada categoría\n",
        "model.config.id2label = {i: label for i, label in enumerate(labels)}\n",
        "params['id2label'] = model.config.id2label\n",
        "\n",
        "# Aprovechar GPU en caso de que haya disponibilidad\n",
        "device = torch.device(\"cuda\" if torch.cuda.is_available() else \"cpu\")\n",
        "model.to(device)"
      ]
    },
    {
      "cell_type": "markdown",
      "source": [
        "# Optimización"
      ],
      "metadata": {
        "id": "Ev-WzHro_JFT"
      }
    },
    {
      "cell_type": "markdown",
      "source": [
        "Para minimizar el error de predicción en el dataset, el optimizador [AdamW](https://pytorch.org/docs/stable/generated/torch.optim.AdamW.html) nor servirá durante el entrenamiento. Durante el entrenamiento, el optimizador se usará junto con una función de pérdida para calcular los gradientes y realizar actualizaciones en los parámetros del modelo."
      ],
      "metadata": {
        "id": "gut3iNSH_OXJ"
      }
    },
    {
      "cell_type": "code",
      "source": [
        "optimizer = AdamW(model.parameters(), lr=params['learning_rate'])"
      ],
      "metadata": {
        "id": "LJlZ1m6h_NmY",
        "outputId": "a6378158-04ac-4794-e150-8e1dff7abe71",
        "colab": {
          "base_uri": "https://localhost:8080/"
        }
      },
      "execution_count": 49,
      "outputs": [
        {
          "output_type": "stream",
          "name": "stderr",
          "text": [
            "/usr/local/lib/python3.10/dist-packages/transformers/optimization.py:588: FutureWarning: This implementation of AdamW is deprecated and will be removed in a future version. Use the PyTorch implementation torch.optim.AdamW instead, or set `no_deprecation_warning=True` to disable this warning\n",
            "  warnings.warn(\n"
          ]
        }
      ]
    },
    {
      "cell_type": "markdown",
      "source": [
        "# Función de evaluación"
      ],
      "metadata": {
        "id": "d9yBTvSUBAbo"
      }
    },
    {
      "cell_type": "markdown",
      "source": [
        "Este código define una función llamada `evaluate_model` que evalúa el rendimiento de un modelo entrenado en un conjunto de datos de prueba, devolviendo varias métricas de evaluación, como **accuracy**, **precision**, **recall** y **F1**."
      ],
      "metadata": {
        "id": "6cQ1vD7tBFyx"
      }
    },
    {
      "cell_type": "code",
      "source": [
        "def evaluate_model(model, dataloader, device):\n",
        "    model.eval() # Setea el modelo en modo evaluación, desactivando el dropout y batch normalization\n",
        "    predictions, true_labels = [], [] # Listas para almacenar predicciones\n",
        "\n",
        "    # Desactiva el cálculo de gradientes para hacer el proceso más eficiente\n",
        "    with torch.no_grad():\n",
        "        for batch in dataloader:\n",
        "            inputs, masks, labels = batch['input_ids'].to(device), batch['attention_mask'].to(device), batch['label'].to(device)\n",
        "\n",
        "            # Realiza el forward pass y obtiene las predicciones del modelo\n",
        "            outputs = model(inputs, attention_mask=masks)\n",
        "            logits = outputs.logits  # Obtiene los logits (salidas antes de softmax)\n",
        "            _, predicted_labels = torch.max(logits, dim=1)  # Selecciona la clase con el valor máximo\n",
        "\n",
        "            # Almacena las predicciones y etiquetas verdaderas para las métricas\n",
        "            predictions.extend(predicted_labels.cpu().numpy())\n",
        "            true_labels.extend(labels.cpu().numpy())\n",
        "\n",
        "    # Calcula las métricas de evaluación: precisión, precisión, recall y F1\n",
        "    accuracy = accuracy_score(true_labels, predictions)  # Precisión general del modelo\n",
        "    precision, recall, f1, _ = precision_recall_fscore_support(true_labels, predictions, average='macro')\n",
        "\n",
        "    return accuracy, precision, recall, f1"
      ],
      "metadata": {
        "id": "2SS-Wd6yAZJn"
      },
      "execution_count": 50,
      "outputs": []
    },
    {
      "cell_type": "markdown",
      "source": [
        "# Ciclo de entrenamiento"
      ],
      "metadata": {
        "id": "mtD709P6LKY-"
      }
    },
    {
      "cell_type": "code",
      "source": [
        "with mlflow.start_run(run_name=f\"{params['model_name']}-{params['dataset_name']}\") as run:\n",
        "\n",
        "    # Registrar todos los parámetros en entrenamiento\n",
        "    mlflow.log_params(params)\n",
        "\n",
        "\n",
        "    with tqdm(total=params[\"num_epochs\"] * len(train_loader), desc=f\"Epoch [1/{params['num_epochs']}] - (Loss: N/A) - Steps\") as pbar:\n",
        "\n",
        "        # Iterar sobre cada época de entrenamiento\n",
        "        for epoch in range(params['num_epochs']):\n",
        "            running_loss = 0.0 # Variable para acumular la pérdida en cada época\n",
        "            for i, batch in enumerate(train_loader, 0):\n",
        "                # Pasar los datos de entrada\n",
        "                inputs, masks, labels = batch['input_ids'].to(device), batch['attention_mask'].to(device), batch['label'].to(device)\n",
        "\n",
        "                # Reiniciar los gradientes acumulados antes del cálculo\n",
        "                optimizer.zero_grad()\n",
        "\n",
        "                # Realizar el forward pass y calcular la pérdida del modelo\n",
        "                outputs = model(inputs, attention_mask=masks, labels = labels)\n",
        "                loss = outputs.loss\n",
        "\n",
        "                # Backward pass para calcular el gradiente\n",
        "                loss.backward()\n",
        "\n",
        "                # Actualizar parámetros usando el optimizador\n",
        "                optimizer.step()\n",
        "\n",
        "                # Acumular la pérdida para calcular el promedio después de un número de pasos\n",
        "                running_loss += loss.item()\n",
        "\n",
        "                # Registrar y mostrar la pérdida cada cierto número de pasos\n",
        "                if i and i % params['log_steps'] == 0:\n",
        "                    avg_loss = running_loss / params['log_steps'] # promedio de pérdida en los últimos log steps\n",
        "\n",
        "                    # Actualizar la barra de progreso con el promedio de pérdida actual\n",
        "                    pbar.set_description(f\"Epoch [{epoch + 1}/{params['num_epochs']}] - (Loss: {avg_loss:.3f}) - Steps\")\n",
        "\n",
        "                    # Registrar la pérdida para monitoreo en MLflow\n",
        "                    mlflow.log_metric(\"loss\", avg_loss, step=epoch * len(train_loader) + i)\n",
        "\n",
        "                    # Reiniciar la pérdida acumulada\n",
        "                    running_loss = 0.0\n",
        "\n",
        "                # Avanzar en la barra de progreso por cada lote\n",
        "                pbar.update(1)\n",
        "\n",
        "            # Evaluar el modelo en el conjunto de prueba al final de cada época\n",
        "            accuracy, precision, recall, f1 = evaluate_model(model, test_loader, device)\n",
        "            print(f\"Epoch {epoch + 1} Metrics: Accuracy: {accuracy:.4f}, Precision: {precision:.4f}, Recall: {recall:.4f}, F1: {f1:.4f}\")\n",
        "\n",
        "            # Registrar las métricas de evaluación en MLflow para monitoreo y análisis\n",
        "            mlflow.log_metrics({'accuracy': accuracy, 'precision': precision, 'recall': recall, 'f1': f1}, step=epoch)\n",
        "\n",
        "    # Guardar el modelo en MLflow utilizando el método personalizado\n",
        "    # Aquí se crea la carpeta de salida y se guardan tanto el modelo como el tokenizador\n",
        "    os.makedirs(params['output_dir'], exist_ok=True)\n",
        "    model.save_pretrained(params['output_dir'])\n",
        "    tokenizer.save_pretrained(params['output_dir'])\n",
        "\n",
        "    # Registrar los artefactos del modelo (pesos y configuración) en MLflow\n",
        "    mlflow.log_artifacts(params['output_dir'], artifact_path=\"model\")\n",
        "\n",
        "    # Crear una URI única del modelo en MLflow para registrarlo y hacer referencia en el Model Registry\n",
        "    model_uri = f\"runs:/{run.info.run_id}/model\"\n",
        "    mlflow.register_model(model_uri, \"agnews-transformer\")\n",
        "\n",
        "print('Finished Training')"
      ],
      "metadata": {
        "id": "gxOJqqp0LNC0",
        "outputId": "9f1a3bdd-6a6d-4c82-a0c5-b66d548919a0",
        "colab": {
          "base_uri": "https://localhost:8080/"
        }
      },
      "execution_count": 51,
      "outputs": [
        {
          "output_type": "stream",
          "name": "stderr",
          "text": [
            "Epoch [1/1] - (Loss: N/A) - Steps: 100%|██████████| 32/32 [05:24<00:00, 10.14s/it]"
          ]
        },
        {
          "output_type": "stream",
          "name": "stdout",
          "text": [
            "Epoch 1 Metrics: Accuracy: 0.8500, Precision: 0.8419, Recall: 0.8460, F1: 0.8365\n"
          ]
        },
        {
          "output_type": "stream",
          "name": "stderr",
          "text": [
            "\n",
            "Successfully registered model 'agnews-transformer'.\n",
            "2024/10/08 22:46:54 INFO mlflow.tracking._model_registry.client: Waiting up to 300 seconds for model version to finish creation. Model name: agnews-transformer, version 1\n"
          ]
        },
        {
          "output_type": "stream",
          "name": "stdout",
          "text": [
            "Finished Training\n"
          ]
        },
        {
          "output_type": "stream",
          "name": "stderr",
          "text": [
            "Created version '1' of model 'agnews-transformer'.\n"
          ]
        }
      ]
    }
  ],
  "metadata": {
    "kernelspec": {
      "display_name": "mlops_env",
      "language": "python",
      "name": "python3"
    },
    "language_info": {
      "codemirror_mode": {
        "name": "ipython",
        "version": 3
      },
      "file_extension": ".py",
      "mimetype": "text/x-python",
      "name": "python",
      "nbconvert_exporter": "python",
      "pygments_lexer": "ipython3",
      "version": "3.10.15"
    },
    "colab": {
      "provenance": []
    },
    "widgets": {
      "application/vnd.jupyter.widget-state+json": {
        "5073084f350746f0b84a181ed7de126c": {
          "model_module": "@jupyter-widgets/controls",
          "model_name": "HBoxModel",
          "model_module_version": "1.5.0",
          "state": {
            "_dom_classes": [],
            "_model_module": "@jupyter-widgets/controls",
            "_model_module_version": "1.5.0",
            "_model_name": "HBoxModel",
            "_view_count": null,
            "_view_module": "@jupyter-widgets/controls",
            "_view_module_version": "1.5.0",
            "_view_name": "HBoxView",
            "box_style": "",
            "children": [
              "IPY_MODEL_7b3366e17e7f4e5aa71bc4179a84cae7",
              "IPY_MODEL_09c80e37ad8a4fddb6bec0663ba83875",
              "IPY_MODEL_dd9b426ed8114a2684ace7ffed468d9c"
            ],
            "layout": "IPY_MODEL_b2f46ce6f1114dc48094212988d9120a"
          }
        },
        "7b3366e17e7f4e5aa71bc4179a84cae7": {
          "model_module": "@jupyter-widgets/controls",
          "model_name": "HTMLModel",
          "model_module_version": "1.5.0",
          "state": {
            "_dom_classes": [],
            "_model_module": "@jupyter-widgets/controls",
            "_model_module_version": "1.5.0",
            "_model_name": "HTMLModel",
            "_view_count": null,
            "_view_module": "@jupyter-widgets/controls",
            "_view_module_version": "1.5.0",
            "_view_name": "HTMLView",
            "description": "",
            "description_tooltip": null,
            "layout": "IPY_MODEL_4cd22ad71d95438ba3aa456a0a26465e",
            "placeholder": "​",
            "style": "IPY_MODEL_0f5aba16d0e34b05ae5e27321f9c514e",
            "value": "Map: 100%"
          }
        },
        "09c80e37ad8a4fddb6bec0663ba83875": {
          "model_module": "@jupyter-widgets/controls",
          "model_name": "FloatProgressModel",
          "model_module_version": "1.5.0",
          "state": {
            "_dom_classes": [],
            "_model_module": "@jupyter-widgets/controls",
            "_model_module_version": "1.5.0",
            "_model_name": "FloatProgressModel",
            "_view_count": null,
            "_view_module": "@jupyter-widgets/controls",
            "_view_module_version": "1.5.0",
            "_view_name": "ProgressView",
            "bar_style": "success",
            "description": "",
            "description_tooltip": null,
            "layout": "IPY_MODEL_cb0a437155194c46a138f74936e669ef",
            "max": 500,
            "min": 0,
            "orientation": "horizontal",
            "style": "IPY_MODEL_a02fc17548bd46b0975adc8fab555e2e",
            "value": 500
          }
        },
        "dd9b426ed8114a2684ace7ffed468d9c": {
          "model_module": "@jupyter-widgets/controls",
          "model_name": "HTMLModel",
          "model_module_version": "1.5.0",
          "state": {
            "_dom_classes": [],
            "_model_module": "@jupyter-widgets/controls",
            "_model_module_version": "1.5.0",
            "_model_name": "HTMLModel",
            "_view_count": null,
            "_view_module": "@jupyter-widgets/controls",
            "_view_module_version": "1.5.0",
            "_view_name": "HTMLView",
            "description": "",
            "description_tooltip": null,
            "layout": "IPY_MODEL_59a4265ac97749e0a054c061c086d98a",
            "placeholder": "​",
            "style": "IPY_MODEL_3bd8628638244869a3a8582f1b6e6fd5",
            "value": " 500/500 [00:00&lt;00:00, 1816.30 examples/s]"
          }
        },
        "b2f46ce6f1114dc48094212988d9120a": {
          "model_module": "@jupyter-widgets/base",
          "model_name": "LayoutModel",
          "model_module_version": "1.2.0",
          "state": {
            "_model_module": "@jupyter-widgets/base",
            "_model_module_version": "1.2.0",
            "_model_name": "LayoutModel",
            "_view_count": null,
            "_view_module": "@jupyter-widgets/base",
            "_view_module_version": "1.2.0",
            "_view_name": "LayoutView",
            "align_content": null,
            "align_items": null,
            "align_self": null,
            "border": null,
            "bottom": null,
            "display": null,
            "flex": null,
            "flex_flow": null,
            "grid_area": null,
            "grid_auto_columns": null,
            "grid_auto_flow": null,
            "grid_auto_rows": null,
            "grid_column": null,
            "grid_gap": null,
            "grid_row": null,
            "grid_template_areas": null,
            "grid_template_columns": null,
            "grid_template_rows": null,
            "height": null,
            "justify_content": null,
            "justify_items": null,
            "left": null,
            "margin": null,
            "max_height": null,
            "max_width": null,
            "min_height": null,
            "min_width": null,
            "object_fit": null,
            "object_position": null,
            "order": null,
            "overflow": null,
            "overflow_x": null,
            "overflow_y": null,
            "padding": null,
            "right": null,
            "top": null,
            "visibility": null,
            "width": null
          }
        },
        "4cd22ad71d95438ba3aa456a0a26465e": {
          "model_module": "@jupyter-widgets/base",
          "model_name": "LayoutModel",
          "model_module_version": "1.2.0",
          "state": {
            "_model_module": "@jupyter-widgets/base",
            "_model_module_version": "1.2.0",
            "_model_name": "LayoutModel",
            "_view_count": null,
            "_view_module": "@jupyter-widgets/base",
            "_view_module_version": "1.2.0",
            "_view_name": "LayoutView",
            "align_content": null,
            "align_items": null,
            "align_self": null,
            "border": null,
            "bottom": null,
            "display": null,
            "flex": null,
            "flex_flow": null,
            "grid_area": null,
            "grid_auto_columns": null,
            "grid_auto_flow": null,
            "grid_auto_rows": null,
            "grid_column": null,
            "grid_gap": null,
            "grid_row": null,
            "grid_template_areas": null,
            "grid_template_columns": null,
            "grid_template_rows": null,
            "height": null,
            "justify_content": null,
            "justify_items": null,
            "left": null,
            "margin": null,
            "max_height": null,
            "max_width": null,
            "min_height": null,
            "min_width": null,
            "object_fit": null,
            "object_position": null,
            "order": null,
            "overflow": null,
            "overflow_x": null,
            "overflow_y": null,
            "padding": null,
            "right": null,
            "top": null,
            "visibility": null,
            "width": null
          }
        },
        "0f5aba16d0e34b05ae5e27321f9c514e": {
          "model_module": "@jupyter-widgets/controls",
          "model_name": "DescriptionStyleModel",
          "model_module_version": "1.5.0",
          "state": {
            "_model_module": "@jupyter-widgets/controls",
            "_model_module_version": "1.5.0",
            "_model_name": "DescriptionStyleModel",
            "_view_count": null,
            "_view_module": "@jupyter-widgets/base",
            "_view_module_version": "1.2.0",
            "_view_name": "StyleView",
            "description_width": ""
          }
        },
        "cb0a437155194c46a138f74936e669ef": {
          "model_module": "@jupyter-widgets/base",
          "model_name": "LayoutModel",
          "model_module_version": "1.2.0",
          "state": {
            "_model_module": "@jupyter-widgets/base",
            "_model_module_version": "1.2.0",
            "_model_name": "LayoutModel",
            "_view_count": null,
            "_view_module": "@jupyter-widgets/base",
            "_view_module_version": "1.2.0",
            "_view_name": "LayoutView",
            "align_content": null,
            "align_items": null,
            "align_self": null,
            "border": null,
            "bottom": null,
            "display": null,
            "flex": null,
            "flex_flow": null,
            "grid_area": null,
            "grid_auto_columns": null,
            "grid_auto_flow": null,
            "grid_auto_rows": null,
            "grid_column": null,
            "grid_gap": null,
            "grid_row": null,
            "grid_template_areas": null,
            "grid_template_columns": null,
            "grid_template_rows": null,
            "height": null,
            "justify_content": null,
            "justify_items": null,
            "left": null,
            "margin": null,
            "max_height": null,
            "max_width": null,
            "min_height": null,
            "min_width": null,
            "object_fit": null,
            "object_position": null,
            "order": null,
            "overflow": null,
            "overflow_x": null,
            "overflow_y": null,
            "padding": null,
            "right": null,
            "top": null,
            "visibility": null,
            "width": null
          }
        },
        "a02fc17548bd46b0975adc8fab555e2e": {
          "model_module": "@jupyter-widgets/controls",
          "model_name": "ProgressStyleModel",
          "model_module_version": "1.5.0",
          "state": {
            "_model_module": "@jupyter-widgets/controls",
            "_model_module_version": "1.5.0",
            "_model_name": "ProgressStyleModel",
            "_view_count": null,
            "_view_module": "@jupyter-widgets/base",
            "_view_module_version": "1.2.0",
            "_view_name": "StyleView",
            "bar_color": null,
            "description_width": ""
          }
        },
        "59a4265ac97749e0a054c061c086d98a": {
          "model_module": "@jupyter-widgets/base",
          "model_name": "LayoutModel",
          "model_module_version": "1.2.0",
          "state": {
            "_model_module": "@jupyter-widgets/base",
            "_model_module_version": "1.2.0",
            "_model_name": "LayoutModel",
            "_view_count": null,
            "_view_module": "@jupyter-widgets/base",
            "_view_module_version": "1.2.0",
            "_view_name": "LayoutView",
            "align_content": null,
            "align_items": null,
            "align_self": null,
            "border": null,
            "bottom": null,
            "display": null,
            "flex": null,
            "flex_flow": null,
            "grid_area": null,
            "grid_auto_columns": null,
            "grid_auto_flow": null,
            "grid_auto_rows": null,
            "grid_column": null,
            "grid_gap": null,
            "grid_row": null,
            "grid_template_areas": null,
            "grid_template_columns": null,
            "grid_template_rows": null,
            "height": null,
            "justify_content": null,
            "justify_items": null,
            "left": null,
            "margin": null,
            "max_height": null,
            "max_width": null,
            "min_height": null,
            "min_width": null,
            "object_fit": null,
            "object_position": null,
            "order": null,
            "overflow": null,
            "overflow_x": null,
            "overflow_y": null,
            "padding": null,
            "right": null,
            "top": null,
            "visibility": null,
            "width": null
          }
        },
        "3bd8628638244869a3a8582f1b6e6fd5": {
          "model_module": "@jupyter-widgets/controls",
          "model_name": "DescriptionStyleModel",
          "model_module_version": "1.5.0",
          "state": {
            "_model_module": "@jupyter-widgets/controls",
            "_model_module_version": "1.5.0",
            "_model_name": "DescriptionStyleModel",
            "_view_count": null,
            "_view_module": "@jupyter-widgets/base",
            "_view_module_version": "1.2.0",
            "_view_name": "StyleView",
            "description_width": ""
          }
        },
        "ce0aa97023ed4cda8428005bed24a0e3": {
          "model_module": "@jupyter-widgets/controls",
          "model_name": "HBoxModel",
          "model_module_version": "1.5.0",
          "state": {
            "_dom_classes": [],
            "_model_module": "@jupyter-widgets/controls",
            "_model_module_version": "1.5.0",
            "_model_name": "HBoxModel",
            "_view_count": null,
            "_view_module": "@jupyter-widgets/controls",
            "_view_module_version": "1.5.0",
            "_view_name": "HBoxView",
            "box_style": "",
            "children": [
              "IPY_MODEL_9c72756f6d6242eb88a41ce488d2a74d",
              "IPY_MODEL_0cccd122dc7c439aacb5cf1671effe5c",
              "IPY_MODEL_d023d11aa43449b0a57df75fc793b192"
            ],
            "layout": "IPY_MODEL_f170e325057048b79f06846137ef10b6"
          }
        },
        "9c72756f6d6242eb88a41ce488d2a74d": {
          "model_module": "@jupyter-widgets/controls",
          "model_name": "HTMLModel",
          "model_module_version": "1.5.0",
          "state": {
            "_dom_classes": [],
            "_model_module": "@jupyter-widgets/controls",
            "_model_module_version": "1.5.0",
            "_model_name": "HTMLModel",
            "_view_count": null,
            "_view_module": "@jupyter-widgets/controls",
            "_view_module_version": "1.5.0",
            "_view_name": "HTMLView",
            "description": "",
            "description_tooltip": null,
            "layout": "IPY_MODEL_c2085981afae4787887f354ed78b3b32",
            "placeholder": "​",
            "style": "IPY_MODEL_94b2f1b77fe24e64b82fa76a08d571ac",
            "value": "Map: 100%"
          }
        },
        "0cccd122dc7c439aacb5cf1671effe5c": {
          "model_module": "@jupyter-widgets/controls",
          "model_name": "FloatProgressModel",
          "model_module_version": "1.5.0",
          "state": {
            "_dom_classes": [],
            "_model_module": "@jupyter-widgets/controls",
            "_model_module_version": "1.5.0",
            "_model_name": "FloatProgressModel",
            "_view_count": null,
            "_view_module": "@jupyter-widgets/controls",
            "_view_module_version": "1.5.0",
            "_view_name": "ProgressView",
            "bar_style": "success",
            "description": "",
            "description_tooltip": null,
            "layout": "IPY_MODEL_0d80aec4284e413095378bf7b6ab5f4d",
            "max": 100,
            "min": 0,
            "orientation": "horizontal",
            "style": "IPY_MODEL_d7eec846621a464a94647729afbc8334",
            "value": 100
          }
        },
        "d023d11aa43449b0a57df75fc793b192": {
          "model_module": "@jupyter-widgets/controls",
          "model_name": "HTMLModel",
          "model_module_version": "1.5.0",
          "state": {
            "_dom_classes": [],
            "_model_module": "@jupyter-widgets/controls",
            "_model_module_version": "1.5.0",
            "_model_name": "HTMLModel",
            "_view_count": null,
            "_view_module": "@jupyter-widgets/controls",
            "_view_module_version": "1.5.0",
            "_view_name": "HTMLView",
            "description": "",
            "description_tooltip": null,
            "layout": "IPY_MODEL_73246b60f8ec46c99f507720c0878c7b",
            "placeholder": "​",
            "style": "IPY_MODEL_5b1954b4e6204859ba24eecd00edb95e",
            "value": " 100/100 [00:00&lt;00:00, 1114.94 examples/s]"
          }
        },
        "f170e325057048b79f06846137ef10b6": {
          "model_module": "@jupyter-widgets/base",
          "model_name": "LayoutModel",
          "model_module_version": "1.2.0",
          "state": {
            "_model_module": "@jupyter-widgets/base",
            "_model_module_version": "1.2.0",
            "_model_name": "LayoutModel",
            "_view_count": null,
            "_view_module": "@jupyter-widgets/base",
            "_view_module_version": "1.2.0",
            "_view_name": "LayoutView",
            "align_content": null,
            "align_items": null,
            "align_self": null,
            "border": null,
            "bottom": null,
            "display": null,
            "flex": null,
            "flex_flow": null,
            "grid_area": null,
            "grid_auto_columns": null,
            "grid_auto_flow": null,
            "grid_auto_rows": null,
            "grid_column": null,
            "grid_gap": null,
            "grid_row": null,
            "grid_template_areas": null,
            "grid_template_columns": null,
            "grid_template_rows": null,
            "height": null,
            "justify_content": null,
            "justify_items": null,
            "left": null,
            "margin": null,
            "max_height": null,
            "max_width": null,
            "min_height": null,
            "min_width": null,
            "object_fit": null,
            "object_position": null,
            "order": null,
            "overflow": null,
            "overflow_x": null,
            "overflow_y": null,
            "padding": null,
            "right": null,
            "top": null,
            "visibility": null,
            "width": null
          }
        },
        "c2085981afae4787887f354ed78b3b32": {
          "model_module": "@jupyter-widgets/base",
          "model_name": "LayoutModel",
          "model_module_version": "1.2.0",
          "state": {
            "_model_module": "@jupyter-widgets/base",
            "_model_module_version": "1.2.0",
            "_model_name": "LayoutModel",
            "_view_count": null,
            "_view_module": "@jupyter-widgets/base",
            "_view_module_version": "1.2.0",
            "_view_name": "LayoutView",
            "align_content": null,
            "align_items": null,
            "align_self": null,
            "border": null,
            "bottom": null,
            "display": null,
            "flex": null,
            "flex_flow": null,
            "grid_area": null,
            "grid_auto_columns": null,
            "grid_auto_flow": null,
            "grid_auto_rows": null,
            "grid_column": null,
            "grid_gap": null,
            "grid_row": null,
            "grid_template_areas": null,
            "grid_template_columns": null,
            "grid_template_rows": null,
            "height": null,
            "justify_content": null,
            "justify_items": null,
            "left": null,
            "margin": null,
            "max_height": null,
            "max_width": null,
            "min_height": null,
            "min_width": null,
            "object_fit": null,
            "object_position": null,
            "order": null,
            "overflow": null,
            "overflow_x": null,
            "overflow_y": null,
            "padding": null,
            "right": null,
            "top": null,
            "visibility": null,
            "width": null
          }
        },
        "94b2f1b77fe24e64b82fa76a08d571ac": {
          "model_module": "@jupyter-widgets/controls",
          "model_name": "DescriptionStyleModel",
          "model_module_version": "1.5.0",
          "state": {
            "_model_module": "@jupyter-widgets/controls",
            "_model_module_version": "1.5.0",
            "_model_name": "DescriptionStyleModel",
            "_view_count": null,
            "_view_module": "@jupyter-widgets/base",
            "_view_module_version": "1.2.0",
            "_view_name": "StyleView",
            "description_width": ""
          }
        },
        "0d80aec4284e413095378bf7b6ab5f4d": {
          "model_module": "@jupyter-widgets/base",
          "model_name": "LayoutModel",
          "model_module_version": "1.2.0",
          "state": {
            "_model_module": "@jupyter-widgets/base",
            "_model_module_version": "1.2.0",
            "_model_name": "LayoutModel",
            "_view_count": null,
            "_view_module": "@jupyter-widgets/base",
            "_view_module_version": "1.2.0",
            "_view_name": "LayoutView",
            "align_content": null,
            "align_items": null,
            "align_self": null,
            "border": null,
            "bottom": null,
            "display": null,
            "flex": null,
            "flex_flow": null,
            "grid_area": null,
            "grid_auto_columns": null,
            "grid_auto_flow": null,
            "grid_auto_rows": null,
            "grid_column": null,
            "grid_gap": null,
            "grid_row": null,
            "grid_template_areas": null,
            "grid_template_columns": null,
            "grid_template_rows": null,
            "height": null,
            "justify_content": null,
            "justify_items": null,
            "left": null,
            "margin": null,
            "max_height": null,
            "max_width": null,
            "min_height": null,
            "min_width": null,
            "object_fit": null,
            "object_position": null,
            "order": null,
            "overflow": null,
            "overflow_x": null,
            "overflow_y": null,
            "padding": null,
            "right": null,
            "top": null,
            "visibility": null,
            "width": null
          }
        },
        "d7eec846621a464a94647729afbc8334": {
          "model_module": "@jupyter-widgets/controls",
          "model_name": "ProgressStyleModel",
          "model_module_version": "1.5.0",
          "state": {
            "_model_module": "@jupyter-widgets/controls",
            "_model_module_version": "1.5.0",
            "_model_name": "ProgressStyleModel",
            "_view_count": null,
            "_view_module": "@jupyter-widgets/base",
            "_view_module_version": "1.2.0",
            "_view_name": "StyleView",
            "bar_color": null,
            "description_width": ""
          }
        },
        "73246b60f8ec46c99f507720c0878c7b": {
          "model_module": "@jupyter-widgets/base",
          "model_name": "LayoutModel",
          "model_module_version": "1.2.0",
          "state": {
            "_model_module": "@jupyter-widgets/base",
            "_model_module_version": "1.2.0",
            "_model_name": "LayoutModel",
            "_view_count": null,
            "_view_module": "@jupyter-widgets/base",
            "_view_module_version": "1.2.0",
            "_view_name": "LayoutView",
            "align_content": null,
            "align_items": null,
            "align_self": null,
            "border": null,
            "bottom": null,
            "display": null,
            "flex": null,
            "flex_flow": null,
            "grid_area": null,
            "grid_auto_columns": null,
            "grid_auto_flow": null,
            "grid_auto_rows": null,
            "grid_column": null,
            "grid_gap": null,
            "grid_row": null,
            "grid_template_areas": null,
            "grid_template_columns": null,
            "grid_template_rows": null,
            "height": null,
            "justify_content": null,
            "justify_items": null,
            "left": null,
            "margin": null,
            "max_height": null,
            "max_width": null,
            "min_height": null,
            "min_width": null,
            "object_fit": null,
            "object_position": null,
            "order": null,
            "overflow": null,
            "overflow_x": null,
            "overflow_y": null,
            "padding": null,
            "right": null,
            "top": null,
            "visibility": null,
            "width": null
          }
        },
        "5b1954b4e6204859ba24eecd00edb95e": {
          "model_module": "@jupyter-widgets/controls",
          "model_name": "DescriptionStyleModel",
          "model_module_version": "1.5.0",
          "state": {
            "_model_module": "@jupyter-widgets/controls",
            "_model_module_version": "1.5.0",
            "_model_name": "DescriptionStyleModel",
            "_view_count": null,
            "_view_module": "@jupyter-widgets/base",
            "_view_module_version": "1.2.0",
            "_view_name": "StyleView",
            "description_width": ""
          }
        },
        "b99a5da65c4646b1bbec7c7e2b57c479": {
          "model_module": "@jupyter-widgets/controls",
          "model_name": "HBoxModel",
          "model_module_version": "1.5.0",
          "state": {
            "_dom_classes": [],
            "_model_module": "@jupyter-widgets/controls",
            "_model_module_version": "1.5.0",
            "_model_name": "HBoxModel",
            "_view_count": null,
            "_view_module": "@jupyter-widgets/controls",
            "_view_module_version": "1.5.0",
            "_view_name": "HBoxView",
            "box_style": "",
            "children": [
              "IPY_MODEL_1b140c7cd04a4fbf8c45d4dc0dbff7ee",
              "IPY_MODEL_e9cabba6b1174e0fa973cac58e813c86",
              "IPY_MODEL_ad5ce134c20e4910842222524aa1db4b"
            ],
            "layout": "IPY_MODEL_b1804eb931d34570beaffad90729b8fe"
          }
        },
        "1b140c7cd04a4fbf8c45d4dc0dbff7ee": {
          "model_module": "@jupyter-widgets/controls",
          "model_name": "HTMLModel",
          "model_module_version": "1.5.0",
          "state": {
            "_dom_classes": [],
            "_model_module": "@jupyter-widgets/controls",
            "_model_module_version": "1.5.0",
            "_model_name": "HTMLModel",
            "_view_count": null,
            "_view_module": "@jupyter-widgets/controls",
            "_view_module_version": "1.5.0",
            "_view_name": "HTMLView",
            "description": "",
            "description_tooltip": null,
            "layout": "IPY_MODEL_6a7a12de8f954d188c77e4f3939497a8",
            "placeholder": "​",
            "style": "IPY_MODEL_c266a9af046645d7bf18484a0d319e82",
            "value": "Creating parquet from Arrow format: 100%"
          }
        },
        "e9cabba6b1174e0fa973cac58e813c86": {
          "model_module": "@jupyter-widgets/controls",
          "model_name": "FloatProgressModel",
          "model_module_version": "1.5.0",
          "state": {
            "_dom_classes": [],
            "_model_module": "@jupyter-widgets/controls",
            "_model_module_version": "1.5.0",
            "_model_name": "FloatProgressModel",
            "_view_count": null,
            "_view_module": "@jupyter-widgets/controls",
            "_view_module_version": "1.5.0",
            "_view_name": "ProgressView",
            "bar_style": "success",
            "description": "",
            "description_tooltip": null,
            "layout": "IPY_MODEL_681cf65c29074fbc9fcef492cecbcdbe",
            "max": 1,
            "min": 0,
            "orientation": "horizontal",
            "style": "IPY_MODEL_958f710dc2c5434cb9c4ed771d00106e",
            "value": 1
          }
        },
        "ad5ce134c20e4910842222524aa1db4b": {
          "model_module": "@jupyter-widgets/controls",
          "model_name": "HTMLModel",
          "model_module_version": "1.5.0",
          "state": {
            "_dom_classes": [],
            "_model_module": "@jupyter-widgets/controls",
            "_model_module_version": "1.5.0",
            "_model_name": "HTMLModel",
            "_view_count": null,
            "_view_module": "@jupyter-widgets/controls",
            "_view_module_version": "1.5.0",
            "_view_name": "HTMLView",
            "description": "",
            "description_tooltip": null,
            "layout": "IPY_MODEL_3fcf3617db6a40aba5610c5eb5d1f9ba",
            "placeholder": "​",
            "style": "IPY_MODEL_5734a878bd0b4d4ea0508b1c0ae542bd",
            "value": " 1/1 [00:00&lt;00:00, 15.45ba/s]"
          }
        },
        "b1804eb931d34570beaffad90729b8fe": {
          "model_module": "@jupyter-widgets/base",
          "model_name": "LayoutModel",
          "model_module_version": "1.2.0",
          "state": {
            "_model_module": "@jupyter-widgets/base",
            "_model_module_version": "1.2.0",
            "_model_name": "LayoutModel",
            "_view_count": null,
            "_view_module": "@jupyter-widgets/base",
            "_view_module_version": "1.2.0",
            "_view_name": "LayoutView",
            "align_content": null,
            "align_items": null,
            "align_self": null,
            "border": null,
            "bottom": null,
            "display": null,
            "flex": null,
            "flex_flow": null,
            "grid_area": null,
            "grid_auto_columns": null,
            "grid_auto_flow": null,
            "grid_auto_rows": null,
            "grid_column": null,
            "grid_gap": null,
            "grid_row": null,
            "grid_template_areas": null,
            "grid_template_columns": null,
            "grid_template_rows": null,
            "height": null,
            "justify_content": null,
            "justify_items": null,
            "left": null,
            "margin": null,
            "max_height": null,
            "max_width": null,
            "min_height": null,
            "min_width": null,
            "object_fit": null,
            "object_position": null,
            "order": null,
            "overflow": null,
            "overflow_x": null,
            "overflow_y": null,
            "padding": null,
            "right": null,
            "top": null,
            "visibility": null,
            "width": null
          }
        },
        "6a7a12de8f954d188c77e4f3939497a8": {
          "model_module": "@jupyter-widgets/base",
          "model_name": "LayoutModel",
          "model_module_version": "1.2.0",
          "state": {
            "_model_module": "@jupyter-widgets/base",
            "_model_module_version": "1.2.0",
            "_model_name": "LayoutModel",
            "_view_count": null,
            "_view_module": "@jupyter-widgets/base",
            "_view_module_version": "1.2.0",
            "_view_name": "LayoutView",
            "align_content": null,
            "align_items": null,
            "align_self": null,
            "border": null,
            "bottom": null,
            "display": null,
            "flex": null,
            "flex_flow": null,
            "grid_area": null,
            "grid_auto_columns": null,
            "grid_auto_flow": null,
            "grid_auto_rows": null,
            "grid_column": null,
            "grid_gap": null,
            "grid_row": null,
            "grid_template_areas": null,
            "grid_template_columns": null,
            "grid_template_rows": null,
            "height": null,
            "justify_content": null,
            "justify_items": null,
            "left": null,
            "margin": null,
            "max_height": null,
            "max_width": null,
            "min_height": null,
            "min_width": null,
            "object_fit": null,
            "object_position": null,
            "order": null,
            "overflow": null,
            "overflow_x": null,
            "overflow_y": null,
            "padding": null,
            "right": null,
            "top": null,
            "visibility": null,
            "width": null
          }
        },
        "c266a9af046645d7bf18484a0d319e82": {
          "model_module": "@jupyter-widgets/controls",
          "model_name": "DescriptionStyleModel",
          "model_module_version": "1.5.0",
          "state": {
            "_model_module": "@jupyter-widgets/controls",
            "_model_module_version": "1.5.0",
            "_model_name": "DescriptionStyleModel",
            "_view_count": null,
            "_view_module": "@jupyter-widgets/base",
            "_view_module_version": "1.2.0",
            "_view_name": "StyleView",
            "description_width": ""
          }
        },
        "681cf65c29074fbc9fcef492cecbcdbe": {
          "model_module": "@jupyter-widgets/base",
          "model_name": "LayoutModel",
          "model_module_version": "1.2.0",
          "state": {
            "_model_module": "@jupyter-widgets/base",
            "_model_module_version": "1.2.0",
            "_model_name": "LayoutModel",
            "_view_count": null,
            "_view_module": "@jupyter-widgets/base",
            "_view_module_version": "1.2.0",
            "_view_name": "LayoutView",
            "align_content": null,
            "align_items": null,
            "align_self": null,
            "border": null,
            "bottom": null,
            "display": null,
            "flex": null,
            "flex_flow": null,
            "grid_area": null,
            "grid_auto_columns": null,
            "grid_auto_flow": null,
            "grid_auto_rows": null,
            "grid_column": null,
            "grid_gap": null,
            "grid_row": null,
            "grid_template_areas": null,
            "grid_template_columns": null,
            "grid_template_rows": null,
            "height": null,
            "justify_content": null,
            "justify_items": null,
            "left": null,
            "margin": null,
            "max_height": null,
            "max_width": null,
            "min_height": null,
            "min_width": null,
            "object_fit": null,
            "object_position": null,
            "order": null,
            "overflow": null,
            "overflow_x": null,
            "overflow_y": null,
            "padding": null,
            "right": null,
            "top": null,
            "visibility": null,
            "width": null
          }
        },
        "958f710dc2c5434cb9c4ed771d00106e": {
          "model_module": "@jupyter-widgets/controls",
          "model_name": "ProgressStyleModel",
          "model_module_version": "1.5.0",
          "state": {
            "_model_module": "@jupyter-widgets/controls",
            "_model_module_version": "1.5.0",
            "_model_name": "ProgressStyleModel",
            "_view_count": null,
            "_view_module": "@jupyter-widgets/base",
            "_view_module_version": "1.2.0",
            "_view_name": "StyleView",
            "bar_color": null,
            "description_width": ""
          }
        },
        "3fcf3617db6a40aba5610c5eb5d1f9ba": {
          "model_module": "@jupyter-widgets/base",
          "model_name": "LayoutModel",
          "model_module_version": "1.2.0",
          "state": {
            "_model_module": "@jupyter-widgets/base",
            "_model_module_version": "1.2.0",
            "_model_name": "LayoutModel",
            "_view_count": null,
            "_view_module": "@jupyter-widgets/base",
            "_view_module_version": "1.2.0",
            "_view_name": "LayoutView",
            "align_content": null,
            "align_items": null,
            "align_self": null,
            "border": null,
            "bottom": null,
            "display": null,
            "flex": null,
            "flex_flow": null,
            "grid_area": null,
            "grid_auto_columns": null,
            "grid_auto_flow": null,
            "grid_auto_rows": null,
            "grid_column": null,
            "grid_gap": null,
            "grid_row": null,
            "grid_template_areas": null,
            "grid_template_columns": null,
            "grid_template_rows": null,
            "height": null,
            "justify_content": null,
            "justify_items": null,
            "left": null,
            "margin": null,
            "max_height": null,
            "max_width": null,
            "min_height": null,
            "min_width": null,
            "object_fit": null,
            "object_position": null,
            "order": null,
            "overflow": null,
            "overflow_x": null,
            "overflow_y": null,
            "padding": null,
            "right": null,
            "top": null,
            "visibility": null,
            "width": null
          }
        },
        "5734a878bd0b4d4ea0508b1c0ae542bd": {
          "model_module": "@jupyter-widgets/controls",
          "model_name": "DescriptionStyleModel",
          "model_module_version": "1.5.0",
          "state": {
            "_model_module": "@jupyter-widgets/controls",
            "_model_module_version": "1.5.0",
            "_model_name": "DescriptionStyleModel",
            "_view_count": null,
            "_view_module": "@jupyter-widgets/base",
            "_view_module_version": "1.2.0",
            "_view_name": "StyleView",
            "description_width": ""
          }
        },
        "ebd545399ff242a59f890d555a22ea8d": {
          "model_module": "@jupyter-widgets/controls",
          "model_name": "HBoxModel",
          "model_module_version": "1.5.0",
          "state": {
            "_dom_classes": [],
            "_model_module": "@jupyter-widgets/controls",
            "_model_module_version": "1.5.0",
            "_model_name": "HBoxModel",
            "_view_count": null,
            "_view_module": "@jupyter-widgets/controls",
            "_view_module_version": "1.5.0",
            "_view_name": "HBoxView",
            "box_style": "",
            "children": [
              "IPY_MODEL_ffbbfcb9bc7941c1a196521a6c4f08af",
              "IPY_MODEL_0fea0928b4fa45de9804b6bbfd1fd490",
              "IPY_MODEL_b9a4a5a6749e48ddb5d0f31a356a444d"
            ],
            "layout": "IPY_MODEL_6d60fd555239484ebbc6b2f73364aed8"
          }
        },
        "ffbbfcb9bc7941c1a196521a6c4f08af": {
          "model_module": "@jupyter-widgets/controls",
          "model_name": "HTMLModel",
          "model_module_version": "1.5.0",
          "state": {
            "_dom_classes": [],
            "_model_module": "@jupyter-widgets/controls",
            "_model_module_version": "1.5.0",
            "_model_name": "HTMLModel",
            "_view_count": null,
            "_view_module": "@jupyter-widgets/controls",
            "_view_module_version": "1.5.0",
            "_view_name": "HTMLView",
            "description": "",
            "description_tooltip": null,
            "layout": "IPY_MODEL_223c48c32c5548f5b0d277dfe8aab4f6",
            "placeholder": "​",
            "style": "IPY_MODEL_9da478c7467d49ac8f603c6d248afd1d",
            "value": "Creating parquet from Arrow format: 100%"
          }
        },
        "0fea0928b4fa45de9804b6bbfd1fd490": {
          "model_module": "@jupyter-widgets/controls",
          "model_name": "FloatProgressModel",
          "model_module_version": "1.5.0",
          "state": {
            "_dom_classes": [],
            "_model_module": "@jupyter-widgets/controls",
            "_model_module_version": "1.5.0",
            "_model_name": "FloatProgressModel",
            "_view_count": null,
            "_view_module": "@jupyter-widgets/controls",
            "_view_module_version": "1.5.0",
            "_view_name": "ProgressView",
            "bar_style": "success",
            "description": "",
            "description_tooltip": null,
            "layout": "IPY_MODEL_f47d75e14a694532bfdd500c8f978ab5",
            "max": 1,
            "min": 0,
            "orientation": "horizontal",
            "style": "IPY_MODEL_a171ed4180c94f3bb3803b348094cb9a",
            "value": 1
          }
        },
        "b9a4a5a6749e48ddb5d0f31a356a444d": {
          "model_module": "@jupyter-widgets/controls",
          "model_name": "HTMLModel",
          "model_module_version": "1.5.0",
          "state": {
            "_dom_classes": [],
            "_model_module": "@jupyter-widgets/controls",
            "_model_module_version": "1.5.0",
            "_model_name": "HTMLModel",
            "_view_count": null,
            "_view_module": "@jupyter-widgets/controls",
            "_view_module_version": "1.5.0",
            "_view_name": "HTMLView",
            "description": "",
            "description_tooltip": null,
            "layout": "IPY_MODEL_1ba07f7faf734879b59260a83a3b7af3",
            "placeholder": "​",
            "style": "IPY_MODEL_aa3316aa210f491bb10a39e72bae8951",
            "value": " 1/1 [00:00&lt;00:00, 19.10ba/s]"
          }
        },
        "6d60fd555239484ebbc6b2f73364aed8": {
          "model_module": "@jupyter-widgets/base",
          "model_name": "LayoutModel",
          "model_module_version": "1.2.0",
          "state": {
            "_model_module": "@jupyter-widgets/base",
            "_model_module_version": "1.2.0",
            "_model_name": "LayoutModel",
            "_view_count": null,
            "_view_module": "@jupyter-widgets/base",
            "_view_module_version": "1.2.0",
            "_view_name": "LayoutView",
            "align_content": null,
            "align_items": null,
            "align_self": null,
            "border": null,
            "bottom": null,
            "display": null,
            "flex": null,
            "flex_flow": null,
            "grid_area": null,
            "grid_auto_columns": null,
            "grid_auto_flow": null,
            "grid_auto_rows": null,
            "grid_column": null,
            "grid_gap": null,
            "grid_row": null,
            "grid_template_areas": null,
            "grid_template_columns": null,
            "grid_template_rows": null,
            "height": null,
            "justify_content": null,
            "justify_items": null,
            "left": null,
            "margin": null,
            "max_height": null,
            "max_width": null,
            "min_height": null,
            "min_width": null,
            "object_fit": null,
            "object_position": null,
            "order": null,
            "overflow": null,
            "overflow_x": null,
            "overflow_y": null,
            "padding": null,
            "right": null,
            "top": null,
            "visibility": null,
            "width": null
          }
        },
        "223c48c32c5548f5b0d277dfe8aab4f6": {
          "model_module": "@jupyter-widgets/base",
          "model_name": "LayoutModel",
          "model_module_version": "1.2.0",
          "state": {
            "_model_module": "@jupyter-widgets/base",
            "_model_module_version": "1.2.0",
            "_model_name": "LayoutModel",
            "_view_count": null,
            "_view_module": "@jupyter-widgets/base",
            "_view_module_version": "1.2.0",
            "_view_name": "LayoutView",
            "align_content": null,
            "align_items": null,
            "align_self": null,
            "border": null,
            "bottom": null,
            "display": null,
            "flex": null,
            "flex_flow": null,
            "grid_area": null,
            "grid_auto_columns": null,
            "grid_auto_flow": null,
            "grid_auto_rows": null,
            "grid_column": null,
            "grid_gap": null,
            "grid_row": null,
            "grid_template_areas": null,
            "grid_template_columns": null,
            "grid_template_rows": null,
            "height": null,
            "justify_content": null,
            "justify_items": null,
            "left": null,
            "margin": null,
            "max_height": null,
            "max_width": null,
            "min_height": null,
            "min_width": null,
            "object_fit": null,
            "object_position": null,
            "order": null,
            "overflow": null,
            "overflow_x": null,
            "overflow_y": null,
            "padding": null,
            "right": null,
            "top": null,
            "visibility": null,
            "width": null
          }
        },
        "9da478c7467d49ac8f603c6d248afd1d": {
          "model_module": "@jupyter-widgets/controls",
          "model_name": "DescriptionStyleModel",
          "model_module_version": "1.5.0",
          "state": {
            "_model_module": "@jupyter-widgets/controls",
            "_model_module_version": "1.5.0",
            "_model_name": "DescriptionStyleModel",
            "_view_count": null,
            "_view_module": "@jupyter-widgets/base",
            "_view_module_version": "1.2.0",
            "_view_name": "StyleView",
            "description_width": ""
          }
        },
        "f47d75e14a694532bfdd500c8f978ab5": {
          "model_module": "@jupyter-widgets/base",
          "model_name": "LayoutModel",
          "model_module_version": "1.2.0",
          "state": {
            "_model_module": "@jupyter-widgets/base",
            "_model_module_version": "1.2.0",
            "_model_name": "LayoutModel",
            "_view_count": null,
            "_view_module": "@jupyter-widgets/base",
            "_view_module_version": "1.2.0",
            "_view_name": "LayoutView",
            "align_content": null,
            "align_items": null,
            "align_self": null,
            "border": null,
            "bottom": null,
            "display": null,
            "flex": null,
            "flex_flow": null,
            "grid_area": null,
            "grid_auto_columns": null,
            "grid_auto_flow": null,
            "grid_auto_rows": null,
            "grid_column": null,
            "grid_gap": null,
            "grid_row": null,
            "grid_template_areas": null,
            "grid_template_columns": null,
            "grid_template_rows": null,
            "height": null,
            "justify_content": null,
            "justify_items": null,
            "left": null,
            "margin": null,
            "max_height": null,
            "max_width": null,
            "min_height": null,
            "min_width": null,
            "object_fit": null,
            "object_position": null,
            "order": null,
            "overflow": null,
            "overflow_x": null,
            "overflow_y": null,
            "padding": null,
            "right": null,
            "top": null,
            "visibility": null,
            "width": null
          }
        },
        "a171ed4180c94f3bb3803b348094cb9a": {
          "model_module": "@jupyter-widgets/controls",
          "model_name": "ProgressStyleModel",
          "model_module_version": "1.5.0",
          "state": {
            "_model_module": "@jupyter-widgets/controls",
            "_model_module_version": "1.5.0",
            "_model_name": "ProgressStyleModel",
            "_view_count": null,
            "_view_module": "@jupyter-widgets/base",
            "_view_module_version": "1.2.0",
            "_view_name": "StyleView",
            "bar_color": null,
            "description_width": ""
          }
        },
        "1ba07f7faf734879b59260a83a3b7af3": {
          "model_module": "@jupyter-widgets/base",
          "model_name": "LayoutModel",
          "model_module_version": "1.2.0",
          "state": {
            "_model_module": "@jupyter-widgets/base",
            "_model_module_version": "1.2.0",
            "_model_name": "LayoutModel",
            "_view_count": null,
            "_view_module": "@jupyter-widgets/base",
            "_view_module_version": "1.2.0",
            "_view_name": "LayoutView",
            "align_content": null,
            "align_items": null,
            "align_self": null,
            "border": null,
            "bottom": null,
            "display": null,
            "flex": null,
            "flex_flow": null,
            "grid_area": null,
            "grid_auto_columns": null,
            "grid_auto_flow": null,
            "grid_auto_rows": null,
            "grid_column": null,
            "grid_gap": null,
            "grid_row": null,
            "grid_template_areas": null,
            "grid_template_columns": null,
            "grid_template_rows": null,
            "height": null,
            "justify_content": null,
            "justify_items": null,
            "left": null,
            "margin": null,
            "max_height": null,
            "max_width": null,
            "min_height": null,
            "min_width": null,
            "object_fit": null,
            "object_position": null,
            "order": null,
            "overflow": null,
            "overflow_x": null,
            "overflow_y": null,
            "padding": null,
            "right": null,
            "top": null,
            "visibility": null,
            "width": null
          }
        },
        "aa3316aa210f491bb10a39e72bae8951": {
          "model_module": "@jupyter-widgets/controls",
          "model_name": "DescriptionStyleModel",
          "model_module_version": "1.5.0",
          "state": {
            "_model_module": "@jupyter-widgets/controls",
            "_model_module_version": "1.5.0",
            "_model_name": "DescriptionStyleModel",
            "_view_count": null,
            "_view_module": "@jupyter-widgets/base",
            "_view_module_version": "1.2.0",
            "_view_name": "StyleView",
            "description_width": ""
          }
        }
      }
    }
  },
  "nbformat": 4,
  "nbformat_minor": 0
}